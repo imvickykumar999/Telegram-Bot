{
  "nbformat": 4,
  "nbformat_minor": 0,
  "metadata": {
    "colab": {
      "provenance": []
    },
    "kernelspec": {
      "name": "python3",
      "display_name": "Python 3"
    },
    "language_info": {
      "name": "python"
    }
  },
  "cells": [
    {
      "cell_type": "markdown",
      "source": [
        "# Read Message"
      ],
      "metadata": {
        "id": "qiQuvXnlMEkV"
      }
    },
    {
      "cell_type": "code",
      "execution_count": null,
      "metadata": {
        "id": "elzOktBELwXf"
      },
      "outputs": [],
      "source": [
        "import requests\n",
        "from pprint import pprint as p\n",
        "bot_token = 'xxxxxxxxxxxxxxxxxxxxxxxxxxxxxxxx'\n",
        "\n",
        "req = requests.get(f'https://api.telegram.org/bot{bot_token}/getUpdates') \n",
        "show = req.json()\n",
        "\n",
        "# for i in list(show.values())[1]:\n",
        "#     p(i)\n",
        "#     print('-'*80) "
      ]
    },
    {
      "cell_type": "code",
      "source": [
        "if list(show.values())[0]:\n",
        "  lst = list(show.values())[1]\n",
        "else:\n",
        "  lst = []"
      ],
      "metadata": {
        "id": "0CnzIbGYSF87"
      },
      "execution_count": null,
      "outputs": []
    },
    {
      "cell_type": "code",
      "source": [
        "lst[-1]['message'].keys()"
      ],
      "metadata": {
        "colab": {
          "base_uri": "https://localhost:8080/"
        },
        "id": "NThzdLm-SuMZ",
        "outputId": "c1e0c310-0a5c-46ed-aaa8-d50c6f0fae89"
      },
      "execution_count": null,
      "outputs": [
        {
          "output_type": "execute_result",
          "data": {
            "text/plain": [
              "dict_keys(['message_id', 'from', 'chat', 'date', 'text'])"
            ]
          },
          "metadata": {},
          "execution_count": 35
        }
      ]
    },
    {
      "cell_type": "code",
      "source": [
        "lst[-1]['message']['from']"
      ],
      "metadata": {
        "colab": {
          "base_uri": "https://localhost:8080/"
        },
        "id": "AH2-LWpRTvrM",
        "outputId": "f3b84ebb-2bab-4d9f-e0a2-de6b98f6ca0e"
      },
      "execution_count": null,
      "outputs": [
        {
          "output_type": "execute_result",
          "data": {
            "text/plain": [
              "{'id': 5721393154,\n",
              " 'is_bot': False,\n",
              " 'first_name': 'Vicky',\n",
              " 'last_name': 'Kumar',\n",
              " 'username': 'imvickykumar999',\n",
              " 'language_code': 'en'}"
            ]
          },
          "metadata": {},
          "execution_count": 39
        }
      ]
    },
    {
      "cell_type": "code",
      "source": [
        "bot_chatID = lst[-1]['message']['chat']['id']\n",
        "bot_chatID"
      ],
      "metadata": {
        "colab": {
          "base_uri": "https://localhost:8080/"
        },
        "id": "RzSxD8LJUGHI",
        "outputId": "666a7219-a3ee-4331-d5f0-57719a2721ce"
      },
      "execution_count": null,
      "outputs": [
        {
          "output_type": "execute_result",
          "data": {
            "text/plain": [
              "5721393154"
            ]
          },
          "metadata": {},
          "execution_count": 42
        }
      ]
    },
    {
      "cell_type": "code",
      "source": [
        "fetch = lst[-1]['message']['text']\n",
        "fetch"
      ],
      "metadata": {
        "colab": {
          "base_uri": "https://localhost:8080/",
          "height": 36
        },
        "id": "phf4iMsmT9Ci",
        "outputId": "d62f06e4-3c7e-40b4-99b6-f71bf055daee"
      },
      "execution_count": null,
      "outputs": [
        {
          "output_type": "execute_result",
          "data": {
            "text/plain": [
              "'d'"
            ],
            "application/vnd.google.colaboratory.intrinsic+json": {
              "type": "string"
            }
          },
          "metadata": {},
          "execution_count": 45
        }
      ]
    },
    {
      "cell_type": "markdown",
      "source": [
        "# Write Message"
      ],
      "metadata": {
        "id": "9T4fHkTpMqAH"
      }
    },
    {
      "cell_type": "code",
      "source": [
        "bot_message = 'https://www.instagram.com/reels/CqXMwCpIWEt/'\n",
        "\n",
        "send_text = f'https://api.telegram.org/bot{bot_token}/sendMessage?chat_id={bot_chatID}&parse_mode=Markdown&text={bot_message}'    \n",
        "print(send_text)\n",
        "\n",
        "import requests\n",
        "x = requests.post(send_text)\n",
        "x.text"
      ],
      "metadata": {
        "colab": {
          "base_uri": "https://localhost:8080/",
          "height": 88
        },
        "id": "ugairrznMMxt",
        "outputId": "0d7aab70-1b3f-49d3-d855-d2bfeb31fcd6"
      },
      "execution_count": null,
      "outputs": [
        {
          "output_type": "stream",
          "name": "stdout",
          "text": [
            "https://api.telegram.org/bot6297291074:AAFzpuG7i3GNqUgx9Wj5JNxHF6WF_TCufhk/sendMessage?chat_id=5721393154&parse_mode=Markdown&text=https://www.instagram.com/reels/CqXMwCpIWEt/\n"
          ]
        },
        {
          "output_type": "execute_result",
          "data": {
            "text/plain": [
              "'{\"ok\":true,\"result\":{\"message_id\":12,\"from\":{\"id\":6297291074,\"is_bot\":true,\"first_name\":\"VixReels\",\"username\":\"VixReelsbot\"},\"chat\":{\"id\":5721393154,\"first_name\":\"Vicky\",\"last_name\":\"Kumar\",\"username\":\"imvickykumar999\",\"type\":\"private\"},\"date\":1683179635,\"text\":\"https://www.instagram.com/reels/CqXMwCpIWEt/\",\"entities\":[{\"offset\":0,\"length\":44,\"type\":\"url\"}]}}'"
            ],
            "application/vnd.google.colaboratory.intrinsic+json": {
              "type": "string"
            }
          },
          "metadata": {},
          "execution_count": 44
        }
      ]
    },
    {
      "cell_type": "markdown",
      "source": [
        "# Reels Downloader"
      ],
      "metadata": {
        "id": "TCP0mYAuVIo7"
      }
    },
    {
      "cell_type": "code",
      "source": [
        "import requests\n",
        "from getpass import getpass\n",
        "from pprint import pprint as p\n",
        "\n",
        "# https://stackoverflow.com/a/43317562/11493297\n",
        "bot_token = getpass('Enter Bot Token : ')\n",
        "req = requests.get(f'https://api.telegram.org/bot{bot_token}/getUpdates') "
      ],
      "metadata": {
        "id": "n9fvfb8PM9ex",
        "colab": {
          "base_uri": "https://localhost:8080/"
        },
        "outputId": "bcd9092e-3cde-4197-beda-00cac3381dfd"
      },
      "execution_count": 46,
      "outputs": [
        {
          "name": "stdout",
          "output_type": "stream",
          "text": [
            "Enter Bot Token : ··········\n"
          ]
        }
      ]
    },
    {
      "cell_type": "code",
      "source": [
        "show = req.json()\n",
        "lst = list(show.values())[1]\n",
        "fetch = lst[-1]['message']['text']\n",
        "\n",
        "bot_message = 'Welcome'\n",
        "bot_chatID = lst[-1]['message']['chat']['id']\n",
        "send_text = f'https://api.telegram.org/bot{bot_token}/sendMessage?chat_id={bot_chatID}&parse_mode=Markdown&text={bot_message}'    \n",
        "\n",
        "x = requests.post(send_text)\n",
        "x.text"
      ],
      "metadata": {
        "colab": {
          "base_uri": "https://localhost:8080/",
          "height": 53
        },
        "id": "tjG8ma31WkuP",
        "outputId": "5e2800f5-c60c-4e3b-f9b8-7c245b1a9039"
      },
      "execution_count": 47,
      "outputs": [
        {
          "output_type": "execute_result",
          "data": {
            "text/plain": [
              "'{\"ok\":true,\"result\":{\"message_id\":17,\"from\":{\"id\":6297291074,\"is_bot\":true,\"first_name\":\"VixReels\",\"username\":\"VixReelsbot\"},\"chat\":{\"id\":931672788,\"first_name\":\"Vicky\",\"last_name\":\"Kumar\",\"username\":\"imvickykumar123\",\"type\":\"private\"},\"date\":1683180595,\"text\":\"Welcome\"}}'"
            ],
            "application/vnd.google.colaboratory.intrinsic+json": {
              "type": "string"
            }
          },
          "metadata": {},
          "execution_count": 47
        }
      ]
    },
    {
      "cell_type": "code",
      "source": [],
      "metadata": {
        "id": "aVXv0OQ5Ya4j"
      },
      "execution_count": null,
      "outputs": []
    }
  ]
}